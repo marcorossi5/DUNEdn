{
 "cells": [
  {
   "cell_type": "code",
   "execution_count": null,
   "metadata": {},
   "outputs": [],
   "source": [
    "from pathlib import Path\n",
    "from dunedn.networks import TilingDataset, load_and_compile_gcnn_network\n",
    "from dunedn.utils import load_runcard"
   ]
  },
  {
   "cell_type": "code",
   "execution_count": null,
   "metadata": {},
   "outputs": [],
   "source": [
    "runcard_path = Path(\"../runcards/default.yaml\")\n",
    "modeltype = \"cnn\"\n",
    "dev = \"cpu\"\n",
    "ckpt_path = Path(\"../../output/tmp/models/cnn/cnn.pth\")\n",
    "setup = load_runcard(runcard_path)\n",
    "msetup = setup[\"model\"][modeltype]\n",
    "import pprint\n",
    "pprint.pprint(msetup, indent=2)"
   ]
  },
  {
   "cell_type": "code",
   "execution_count": null,
   "metadata": {},
   "outputs": [],
   "source": [
    "evt_path = Path(\"../../test_dataset/val/evts/rawdigit_evt0.npy\")\n",
    "event = TilingDataset(evt_path, msetup[\"batch_size\"], msetup[\"crop_size\"], has_target=True)"
   ]
  },
  {
   "cell_type": "code",
   "execution_count": null,
   "metadata": {},
   "outputs": [],
   "source": [
    "network = load_and_compile_gcnn_network(msetup, checkpoint_filepath=ckpt_path)\n",
    "y_pred, logs = network.predict(event, dev=dev)"
   ]
  }
 ],
 "metadata": {
  "kernelspec": {
   "display_name": "Python 3.9.13 ('dunedn')",
   "language": "python",
   "name": "python3"
  },
  "language_info": {
   "codemirror_mode": {
    "name": "ipython",
    "version": 3
   },
   "file_extension": ".py",
   "mimetype": "text/x-python",
   "name": "python",
   "nbconvert_exporter": "python",
   "pygments_lexer": "ipython3",
   "version": "3.9.13"
  },
  "orig_nbformat": 4,
  "vscode": {
   "interpreter": {
    "hash": "94503590dc1b706e82caa430f7a6710785419fefec4450b09b19a024ae5e37f3"
   }
  }
 },
 "nbformat": 4,
 "nbformat_minor": 2
}
