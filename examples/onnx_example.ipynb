{
 "cells": [
  {
   "cell_type": "code",
   "execution_count": 1,
   "metadata": {},
   "outputs": [],
   "source": [
    "from time import time as tm\n",
    "from pathlib import Path\n",
    "import numpy as np\n",
    "from plot_event_example import plot_example\n",
    "from dunedn.inference.hitreco import DnModel\n",
    "from dunedn.inference.analysis import analysis_main\n",
    "from dunedn.utils.utils import load_runcard"
   ]
  },
  {
   "cell_type": "code",
   "execution_count": 2,
   "metadata": {},
   "outputs": [],
   "source": [
    "modeltype = \"uscg\"\n",
    "version = \"v08\"\n",
    "basedir = Path(\"../../output/tmp\")\n",
    "outdir = basedir / \"models/onnx\"\n",
    "ckpt = Path(f\"../saved_models/{modeltype}_{version}\")  # folder with checkpoints\n",
    "setup = load_runcard(basedir / \"cards/runcard.yaml\") # settings runcard"
   ]
  },
  {
   "cell_type": "code",
   "execution_count": 3,
   "metadata": {},
   "outputs": [
    {
     "name": "stdout",
     "output_type": "stream",
     "text": [
      "Extracting data into ../../output/tmp/models/onnx...\n"
     ]
    },
    {
     "data": {
      "image/png": "[encoded data removed]",
      "text/plain": [
       "<Figure size 432x288 with 2 Axes>"
      ]
     },
     "metadata": {
      "needs_background": "light"
     },
     "output_type": "display_data"
    },
    {
     "data": {
      "image/png": "[encoded data removed]",
      "text/plain": [
       "<Figure size 432x288 with 1 Axes>"
      ]
     },
     "metadata": {
      "needs_background": "light"
     },
     "output_type": "display_data"
    },
    {
     "data": {
      "image/png": "[encoded data removed]",
      "text/plain": [
       "<Figure size 432x288 with 1 Axes>"
      ]
     },
     "metadata": {
      "needs_background": "light"
     },
     "output_type": "display_data"
    }
   ],
   "source": [
    "# data loading\n",
    "print(f\"Extracting data into {outdir}...\")\n",
    "!mkdir -p $outdir\n",
    "!tar -xf dunetpc_inspired_v09_p2GeV_rawdigits.tar.gz -C $outdir\n",
    "\n",
    "plot_example(outdir, with_graphics=True)"
   ]
  },
  {
   "cell_type": "code",
   "execution_count": 13,
   "metadata": {},
   "outputs": [
    {
     "name": "stdout",
     "output_type": "stream",
     "text": [
      "Loaded event at ../../output/tmp/models/onnx/p2GeV_cosmics_inspired_rawdigit_evt8.npy\n"
     ]
    }
   ],
   "source": [
    "input_path = outdir / \"p2GeV_cosmics_inspired_rawdigit_evt8.npy\"\n",
    "evt = np.load(input_path)[:, 2:]\n",
    "print(f\"Loaded event at {input_path}\")"
   ]
  },
  {
   "cell_type": "code",
   "execution_count": 5,
   "metadata": {},
   "outputs": [],
   "source": [
    "# inference function\n",
    "def inference(model, evt, fname):\n",
    "    \"\"\"Makes inference on event and computes time.\n",
    "\n",
    "    Saves the output file to `fname`.\n",
    "\n",
    "    Parameters\n",
    "    ----------\n",
    "    model: DnModel\n",
    "        The pytorch or onnx based model.\n",
    "    evt: np.ndarray\n",
    "        The input raw data.\n",
    "    fname: Path\n",
    "        The output file name.\n",
    "\n",
    "    Returns\n",
    "    -------\n",
    "    inference_time: float\n",
    "        The elapsed time for inference.\n",
    "    \"\"\"\n",
    "    start = tm()\n",
    "    evt_dn = model.predict(evt)\n",
    "    inference_time = tm() - start\n",
    "\n",
    "    # add info columns\n",
    "    nb_channels, _ = evt_dn.shape\n",
    "    channels_col = np.arange(nb_channels).reshape([-1, 1])\n",
    "    event_col = np.zeros_like(channels_col)\n",
    "    evt_dn = np.concatenate([event_col, channels_col, evt_dn], axis=1)\n",
    "\n",
    "    # save pytorch inference\n",
    "    np.save(fname, evt_dn)\n",
    "    return inference_time"
   ]
  },
  {
   "cell_type": "code",
   "execution_count": 6,
   "metadata": {},
   "outputs": [
    {
     "name": "stderr",
     "output_type": "stream",
     "text": [
      "[INFO] (dunedn.uscg) Loading weights at ../saved_models/uscg_v08/induction/uscg_v08_dn_induction.pth\n",
      "[INFO] (dunedn.uscg) Loading weights at ../saved_models/uscg_v08/collection/uscg_v08_dn_collection.pth\n"
     ]
    },
    {
     "name": "stdout",
     "output_type": "stream",
     "text": [
      "Loaded model from ../saved_models/uscg_v08 folder\n"
     ]
    }
   ],
   "source": [
    "# PyTorch model loading\n",
    "model = DnModel(setup, modeltype, ckpt)\n",
    "print(f\"Loaded model from {ckpt} folder\")"
   ]
  },
  {
   "cell_type": "code",
   "execution_count": 15,
   "metadata": {},
   "outputs": [
    {
     "name": "stdout",
     "output_type": "stream",
     "text": [
      "(15360, 6002) (15360, 6002) (15360, 6002)\n"
     ]
    },
    {
     "name": "stderr",
     "output_type": "stream",
     "text": [
      "[INFO] (dunedn.analysis) Prediction metrics:\n",
      "      ssim: 0.701 +/- 0.047\n",
      "      psnr: 63.487 +/- 2.657\n",
      "       MSE: 0.413 +/- 0.090\n",
      "      IMAE: 871.416 +/- 206.164\n"
     ]
    }
   ],
   "source": [
    "# PyTorch inference\n",
    "target_path = outdir / \"p2GeV_cosmics_inspired_rawdigit_noiseoff_evt8.npy\"\n",
    "reco_path = outdir / \"pytorch_inference_results.npy\"\n",
    "pytorch_time = inference(model, evt, reco_path)\n",
    "print(f\"PyTorch inference done in {pytorch_time}s\")\n",
    "\n",
    "# compute metrics\n",
    "analysis_main(reco_path, target_path)"
   ]
  },
  {
   "cell_type": "code",
   "execution_count": null,
   "metadata": {},
   "outputs": [],
   "source": [
    "# export model to ONNX format\n",
    "# create model save directory\n",
    "onnx_save_folder = outdir.joinpath(f\"saved_models/{modeltype}_{version}\")\n",
    "onnx_save_folder.mkdir(parents=True, exist_ok=True)\n",
    "model.onnx_export(onnx_save_folder)\n",
    "\n",
    "model_onnx = DnModel(setup, modeltype, onnx_save_folder, should_use_onnx=True)"
   ]
  },
  {
   "cell_type": "code",
   "execution_count": null,
   "metadata": {},
   "outputs": [],
   "source": [
    "# ONNX inference\n",
    "fname = outdir / \"onnx_inference_results.npy\"\n",
    "onnx_time = inference(model_onnx, evt, fname)\n",
    "print(f\"ONNX inference done in {onnx_time}s\")\n",
    "\n",
    "# compute metrics\n",
    "evt_dn = np.load(fname)\n",
    "analysis_main(evt_dn, evt)"
   ]
  }
 ],
 "metadata": {
  "interpreter": {
   "hash": "e80351b5c4fff56b32463330d4c3134db2ccc1cad158f50be317425bad0b8b08"
  },
  "kernelspec": {
   "display_name": "Python 3.9.12 ('dn')",
   "language": "python",
   "name": "python3"
  },
  "language_info": {
   "codemirror_mode": {
    "name": "ipython",
    "version": 3
   },
   "file_extension": ".py",
   "mimetype": "text/x-python",
   "name": "python",
   "nbconvert_exporter": "python",
   "pygments_lexer": "ipython3",
   "version": "3.9.12"
  },
  "orig_nbformat": 4
 },
 "nbformat": 4,
 "nbformat_minor": 2
}
